{
 "cells": [
  {
   "cell_type": "code",
   "execution_count": 1,
   "metadata": {},
   "outputs": [],
   "source": [
    "import pandas as pd\n",
    "import matplotlib.pyplot as plt\n",
    "import seaborn as sns\n",
    "from scipy import stats"
   ]
  },
  {
   "cell_type": "code",
   "execution_count": 2,
   "metadata": {},
   "outputs": [],
   "source": [
    "def drop_col_nums(df, col_list):\n",
    "    # drop column by index and return the dataframe\n",
    "    return df.drop([df.columns[col] for col in col_list], axis =1)\n",
    "    "
   ]
  },
  {
   "cell_type": "code",
   "execution_count": 3,
   "metadata": {},
   "outputs": [],
   "source": [
    "# source: https://data.cityofnewyork.us/Environment/Water-Consumption-In-The-New-York-City/ia2d-e54m\n",
    "death = pd.read_csv(\"New_York_City_Leading_Causes_of_Death.csv\")\n",
    "\n",
    "# source: https://data.cityofnewyork.us/Health/New-York-City-Leading-Causes-of-Death/jb7j-dtam/data\n",
    "water = pd.read_csv(\"Water_Consumption_In_The_New_York_City.csv\")"
   ]
  },
  {
   "cell_type": "code",
   "execution_count": 4,
   "metadata": {},
   "outputs": [],
   "source": [
    "flu_name = \"Influenza (Flu) and Pneumonia (J09-J18)\"\n",
    "death_flu = death[death['Leading Cause'] == flu_name]"
   ]
  },
  {
   "cell_type": "code",
   "execution_count": 5,
   "metadata": {},
   "outputs": [
    {
     "data": {
      "text/html": [
       "<div>\n",
       "<style scoped>\n",
       "    .dataframe tbody tr th:only-of-type {\n",
       "        vertical-align: middle;\n",
       "    }\n",
       "\n",
       "    .dataframe tbody tr th {\n",
       "        vertical-align: top;\n",
       "    }\n",
       "\n",
       "    .dataframe thead th {\n",
       "        text-align: right;\n",
       "    }\n",
       "</style>\n",
       "<table border=\"1\" class=\"dataframe\">\n",
       "  <thead>\n",
       "    <tr style=\"text-align: right;\">\n",
       "      <th></th>\n",
       "      <th>Year</th>\n",
       "      <th>Leading Cause</th>\n",
       "      <th>Sex</th>\n",
       "      <th>Race Ethnicity</th>\n",
       "      <th>Deaths</th>\n",
       "      <th>Death Rate</th>\n",
       "      <th>Age Adjusted Death Rate</th>\n",
       "    </tr>\n",
       "  </thead>\n",
       "  <tbody>\n",
       "    <tr>\n",
       "      <th>14</th>\n",
       "      <td>2008</td>\n",
       "      <td>Influenza (Flu) and Pneumonia (J09-J18)</td>\n",
       "      <td>F</td>\n",
       "      <td>Not Stated/Unknown</td>\n",
       "      <td>14</td>\n",
       "      <td>.</td>\n",
       "      <td>.</td>\n",
       "    </tr>\n",
       "    <tr>\n",
       "      <th>26</th>\n",
       "      <td>2013</td>\n",
       "      <td>Influenza (Flu) and Pneumonia (J09-J18)</td>\n",
       "      <td>F</td>\n",
       "      <td>Not Stated/Unknown</td>\n",
       "      <td>18</td>\n",
       "      <td>.</td>\n",
       "      <td>.</td>\n",
       "    </tr>\n",
       "    <tr>\n",
       "      <th>38</th>\n",
       "      <td>2007</td>\n",
       "      <td>Influenza (Flu) and Pneumonia (J09-J18)</td>\n",
       "      <td>F</td>\n",
       "      <td>Not Stated/Unknown</td>\n",
       "      <td>.</td>\n",
       "      <td>.</td>\n",
       "      <td>.</td>\n",
       "    </tr>\n",
       "    <tr>\n",
       "      <th>46</th>\n",
       "      <td>2014</td>\n",
       "      <td>Influenza (Flu) and Pneumonia (J09-J18)</td>\n",
       "      <td>F</td>\n",
       "      <td>White Non-Hispanic</td>\n",
       "      <td>563</td>\n",
       "      <td>39.7</td>\n",
       "      <td>20.4</td>\n",
       "    </tr>\n",
       "    <tr>\n",
       "      <th>50</th>\n",
       "      <td>2012</td>\n",
       "      <td>Influenza (Flu) and Pneumonia (J09-J18)</td>\n",
       "      <td>M</td>\n",
       "      <td>Asian and Pacific Islander</td>\n",
       "      <td>76</td>\n",
       "      <td>14.1</td>\n",
       "      <td>20.9</td>\n",
       "    </tr>\n",
       "  </tbody>\n",
       "</table>\n",
       "</div>"
      ],
      "text/plain": [
       "    Year                            Leading Cause Sex  \\\n",
       "14  2008  Influenza (Flu) and Pneumonia (J09-J18)   F   \n",
       "26  2013  Influenza (Flu) and Pneumonia (J09-J18)   F   \n",
       "38  2007  Influenza (Flu) and Pneumonia (J09-J18)   F   \n",
       "46  2014  Influenza (Flu) and Pneumonia (J09-J18)   F   \n",
       "50  2012  Influenza (Flu) and Pneumonia (J09-J18)   M   \n",
       "\n",
       "                Race Ethnicity Deaths Death Rate Age Adjusted Death Rate  \n",
       "14          Not Stated/Unknown     14          .                       .  \n",
       "26          Not Stated/Unknown     18          .                       .  \n",
       "38          Not Stated/Unknown      .          .                       .  \n",
       "46          White Non-Hispanic    563       39.7                    20.4  \n",
       "50  Asian and Pacific Islander     76       14.1                    20.9  "
      ]
     },
     "execution_count": 5,
     "metadata": {},
     "output_type": "execute_result"
    }
   ],
   "source": [
    "death_flu.head()"
   ]
  },
  {
   "cell_type": "code",
   "execution_count": 6,
   "metadata": {},
   "outputs": [],
   "source": [
    "# keep only the last column\n",
    "water_per_capita = drop_col_nums(water, [1,2])"
   ]
  },
  {
   "cell_type": "code",
   "execution_count": 7,
   "metadata": {},
   "outputs": [],
   "source": [
    "water_per_capita['Per Capita(Gallons per person per day)'] = water_per_capita['Per Capita(Gallons per person per day)'].astype(float)"
   ]
  },
  {
   "cell_type": "code",
   "execution_count": 9,
   "metadata": {},
   "outputs": [
    {
     "data": {
      "text/html": [
       "<div>\n",
       "<style scoped>\n",
       "    .dataframe tbody tr th:only-of-type {\n",
       "        vertical-align: middle;\n",
       "    }\n",
       "\n",
       "    .dataframe tbody tr th {\n",
       "        vertical-align: top;\n",
       "    }\n",
       "\n",
       "    .dataframe thead th {\n",
       "        text-align: right;\n",
       "    }\n",
       "</style>\n",
       "<table border=\"1\" class=\"dataframe\">\n",
       "  <thead>\n",
       "    <tr style=\"text-align: right;\">\n",
       "      <th></th>\n",
       "      <th>Year</th>\n",
       "      <th>Per Capita(Gallons per person per day)</th>\n",
       "    </tr>\n",
       "  </thead>\n",
       "  <tbody>\n",
       "    <tr>\n",
       "      <th>0</th>\n",
       "      <td>1979</td>\n",
       "      <td>213.0</td>\n",
       "    </tr>\n",
       "    <tr>\n",
       "      <th>1</th>\n",
       "      <td>1980</td>\n",
       "      <td>213.0</td>\n",
       "    </tr>\n",
       "    <tr>\n",
       "      <th>2</th>\n",
       "      <td>1981</td>\n",
       "      <td>185.0</td>\n",
       "    </tr>\n",
       "    <tr>\n",
       "      <th>3</th>\n",
       "      <td>1982</td>\n",
       "      <td>194.0</td>\n",
       "    </tr>\n",
       "    <tr>\n",
       "      <th>4</th>\n",
       "      <td>1983</td>\n",
       "      <td>198.0</td>\n",
       "    </tr>\n",
       "  </tbody>\n",
       "</table>\n",
       "</div>"
      ],
      "text/plain": [
       "   Year  Per Capita(Gallons per person per day)\n",
       "0  1979                                   213.0\n",
       "1  1980                                   213.0\n",
       "2  1981                                   185.0\n",
       "3  1982                                   194.0\n",
       "4  1983                                   198.0"
      ]
     },
     "execution_count": 9,
     "metadata": {},
     "output_type": "execute_result"
    }
   ],
   "source": [
    "water_per_capita.head()"
   ]
  },
  {
   "cell_type": "code",
   "execution_count": 10,
   "metadata": {},
   "outputs": [],
   "source": [
    "# drop columns not used\n",
    "death_adj_rate_flu = drop_col_nums(death_flu, [1,2,3,4,5])"
   ]
  },
  {
   "cell_type": "code",
   "execution_count": 11,
   "metadata": {},
   "outputs": [],
   "source": [
    "# clean '.' and NaN\n",
    "death_adj_rate_flu = death_adj_rate_flu[death_adj_rate_flu!='.'].dropna()"
   ]
  },
  {
   "cell_type": "code",
   "execution_count": 12,
   "metadata": {},
   "outputs": [],
   "source": [
    "# set the type to numeric\n",
    "death_adj_rate_flu['Age Adjusted Death Rate'] = death_adj_rate_flu['Age Adjusted Death Rate'].astype(float)"
   ]
  },
  {
   "cell_type": "code",
   "execution_count": 13,
   "metadata": {},
   "outputs": [],
   "source": [
    "# group by year and take average across different races & sexes\n",
    "avg_death_adj_rate_flu = death_adj_rate_flu.groupby('Year').mean()"
   ]
  },
  {
   "cell_type": "code",
   "execution_count": 14,
   "metadata": {},
   "outputs": [],
   "source": [
    "# merge the two data frames by year\n",
    "merged_df = pd.merge(water_per_capita, avg_death_adj_rate_flu, on='Year').set_index('Year')"
   ]
  },
  {
   "cell_type": "code",
   "execution_count": 16,
   "metadata": {},
   "outputs": [
    {
     "data": {
      "image/png": "[encoded data removed]",
      "text/plain": [
       "<matplotlib.figure.Figure at 0x7f00b0ce3b00>"
      ]
     },
     "metadata": {
      "needs_background": "light"
     },
     "output_type": "display_data"
    }
   ],
   "source": [
    "plt.figure(figsize=(12,5))\n",
    "plt.title(\"Water consumption VS death rate from Flu & Pneumonia in New York City 2007 - 2014\")\n",
    "plt.xlabel('Year')\n",
    "\n",
    "ax1 = merged_df['Per Capita(Gallons per person per day)'].plot(color='blue', grid=True, marker='o', label='Water Consumption Per Capita(Gallons per person per day)')\n",
    "ax2 = merged_df['Age Adjusted Death Rate'].plot(color='orange', grid=True, secondary_y=True, marker='o',label='Age Adjusted Death Rate from Flu & Pneumonia (Per 100,000 population)')\n",
    "\n",
    "ax1.legend(loc=3)\n",
    "ax2.legend(loc=1)\n",
    "\n",
    "plt.show()"
   ]
  },
  {
   "cell_type": "markdown",
   "metadata": {},
   "source": [
    "This plot shows the relationship between water consumption per capita and the age adjusted death rate from Flu & Pneumonia in New York City. I was always told that drinking plenty of water helps fighting flu throughout my childhood. Nevertheless, this graph shows that as water consumption per capital is going down in recent years, the death rate from flu & pneumonia is also decreasing. My reasoning is that improved healthcare might contribute to the dropped death rate. Meanwhile, water consumption is not all about drinking. More detailed data is needed to explore this topic."
   ]
  },
  {
   "cell_type": "code",
   "execution_count": null,
   "metadata": {},
   "outputs": [],
   "source": []
  }
 ],
 "metadata": {
  "kernelspec": {
   "display_name": "ADS",
   "language": "python",
   "name": "ads"
  },
  "language_info": {
   "codemirror_mode": {
    "name": "ipython",
    "version": 3
   },
   "file_extension": ".py",
   "mimetype": "text/x-python",
   "name": "python",
   "nbconvert_exporter": "python",
   "pygments_lexer": "ipython3",
   "version": "3.5.0"
  }
 },
 "nbformat": 4,
 "nbformat_minor": 2
}
